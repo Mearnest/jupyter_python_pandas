{
 "cells": [
  {
   "cell_type": "code",
   "execution_count": 1,
   "metadata": {
    "ExecuteTime": {
     "end_time": "2016-12-18T15:26:29.499188",
     "start_time": "2016-12-18T15:26:28.897104"
    },
    "collapsed": false
   },
   "outputs": [],
   "source": [
    "import meeting_scraper as ms"
   ]
  },
  {
   "cell_type": "code",
   "execution_count": 2,
   "metadata": {
    "ExecuteTime": {
     "end_time": "2016-12-18T15:26:29.532271",
     "start_time": "2016-12-18T15:26:29.501645"
    },
    "collapsed": false
   },
   "outputs": [
    {
     "data": {
      "text/plain": [
       "'http://www.wichita.gov/Government/Council/CityCouncilDocument/{0}%20CITY%20COUNCIL%20MEETING%20SCHEDULE.pdf'"
      ]
     },
     "execution_count": 2,
     "metadata": {},
     "output_type": "execute_result"
    }
   ],
   "source": [
    "ms.pdf_url"
   ]
  },
  {
   "cell_type": "code",
   "execution_count": 3,
   "metadata": {
    "ExecuteTime": {
     "end_time": "2016-12-18T15:26:29.543243",
     "start_time": "2016-12-18T15:26:29.534967"
    },
    "collapsed": false
   },
   "outputs": [
    {
     "data": {
      "text/plain": [
       "2016"
      ]
     },
     "execution_count": 3,
     "metadata": {},
     "output_type": "execute_result"
    }
   ],
   "source": [
    "ms.year"
   ]
  },
  {
   "cell_type": "code",
   "execution_count": 4,
   "metadata": {
    "ExecuteTime": {
     "end_time": "2016-12-18T15:26:29.557112",
     "start_time": "2016-12-18T15:26:29.546832"
    },
    "collapsed": false
   },
   "outputs": [
    {
     "name": "stdout",
     "output_type": "stream",
     "text": [
      "Help on function fetch_meetings_pdf in module meeting_scraper:\n",
      "\n",
      "fetch_meetings_pdf(url, year)\n",
      "    Get the online pdf that has the list of meetings and write it to file for further processing\n",
      "    \n",
      "    Paramaters\n",
      "    ----------\n",
      "    url: URL of the meetings pdf\n",
      "    year: Desired year\n",
      "    \n",
      "    Returns\n",
      "    -------\n",
      "    filename: Location of the pdf file written to local\n",
      "\n"
     ]
    }
   ],
   "source": [
    "help(ms.fetch_meetings_pdf)"
   ]
  },
  {
   "cell_type": "code",
   "execution_count": 5,
   "metadata": {
    "ExecuteTime": {
     "end_time": "2016-12-18T15:26:29.954643",
     "start_time": "2016-12-18T15:26:29.559942"
    },
    "collapsed": false
   },
   "outputs": [
    {
     "name": "stdout",
     "output_type": "stream",
     "text": [
      "Meeting PDF written to file: files/meeting_2017.pdf\n"
     ]
    }
   ],
   "source": [
    "filename = ms.fetch_meetings_pdf(ms.pdf_url, 2017)"
   ]
  },
  {
   "cell_type": "code",
   "execution_count": 6,
   "metadata": {
    "ExecuteTime": {
     "end_time": "2016-12-18T15:26:30.029180",
     "start_time": "2016-12-18T15:26:29.957110"
    },
    "collapsed": false
   },
   "outputs": [
    {
     "data": {
      "text/plain": [
       "<pdfquery.pdfquery.PDFQuery at 0x1047cc7f0>"
      ]
     },
     "execution_count": 6,
     "metadata": {},
     "output_type": "execute_result"
    }
   ],
   "source": [
    "pdf = ms.PDFQuery(filename)\n",
    "pdf"
   ]
  },
  {
   "cell_type": "code",
   "execution_count": 7,
   "metadata": {
    "ExecuteTime": {
     "end_time": "2016-12-18T15:26:31.087331",
     "start_time": "2016-12-18T15:26:30.031685"
    },
    "collapsed": false
   },
   "outputs": [
    {
     "name": "stdout",
     "output_type": "stream",
     "text": [
      "39 lines of text extracted\n"
     ]
    }
   ],
   "source": [
    "pdf.load()\n",
    "lines = ms.get_text_lines(pdf)"
   ]
  },
  {
   "cell_type": "code",
   "execution_count": 8,
   "metadata": {
    "ExecuteTime": {
     "end_time": "2016-12-18T15:26:31.095109",
     "start_time": "2016-12-18T15:26:31.090077"
    },
    "collapsed": false
   },
   "outputs": [
    {
     "data": {
      "text/plain": [
       "(256,\n",
       " [<Element LTTextLineHorizontal at 0x1046b70e8>,\n",
       "  <Element LTTextLineHorizontal at 0x1046ba9f8>])"
      ]
     },
     "execution_count": 8,
     "metadata": {},
     "output_type": "execute_result"
    }
   ],
   "source": [
    "# Show first line in dictionary\n",
    "list(lines.items())[0]"
   ]
  },
  {
   "cell_type": "code",
   "execution_count": 9,
   "metadata": {
    "ExecuteTime": {
     "end_time": "2016-12-18T15:26:31.269767",
     "start_time": "2016-12-18T15:26:31.097766"
    },
    "collapsed": false
   },
   "outputs": [
    {
     "name": "stdout",
     "output_type": "stream",
     "text": [
      "48 meetings generated\n"
     ]
    }
   ],
   "source": [
    "meetings = ms.parse_lines(lines)"
   ]
  },
  {
   "cell_type": "code",
   "execution_count": 10,
   "metadata": {
    "ExecuteTime": {
     "end_time": "2016-12-18T15:26:31.295936",
     "start_time": "2016-12-18T15:26:31.288390"
    },
    "collapsed": false
   },
   "outputs": [
    {
     "data": {
      "text/plain": [
       "(datetime.datetime(2016, 11, 28, 9, 30),\n",
       " b'BEGIN:VCALENDAR\\r\\nBEGIN:VEVENT\\r\\nSUMMARY:Council Meeting Consent/Workshop\\r\\nDTSTART;VALUE=DATE-TIME:20161128T093000\\r\\nDTEND;VALUE=DATE-TIME:20161128T113000\\r\\nDTSTAMP;VALUE=DATE-TIME:20161128T093000Z\\r\\nDESCRIPTION:Review and discuss important issues\\\\, staff projects and futur\\r\\n e Council meeting agenda items\\r\\nLOCATION:455 N Main\\\\, 1st Floor Board Room Wichita\\\\, KS 67202\\r\\nURL:http://www.wichita.gov/Government/Council/Agendas/11-28-2016%20City%20\\r\\n Council%20Agenda%20Packet.pdf\\r\\nEND:VEVENT\\r\\nEND:VCALENDAR\\r\\n')"
      ]
     },
     "execution_count": 10,
     "metadata": {},
     "output_type": "execute_result"
    }
   ],
   "source": [
    "meetings[0][\"date\"], meetings[0][\"ical\"]"
   ]
  },
  {
   "cell_type": "code",
   "execution_count": 11,
   "metadata": {
    "ExecuteTime": {
     "end_time": "2016-12-18T15:26:31.340647",
     "start_time": "2016-12-18T15:26:31.300415"
    },
    "collapsed": false
   },
   "outputs": [
    {
     "data": {
      "text/plain": [
       "'{\"description\": \"Review and discuss important issues, staff projects and future Council meeting agenda items\", \"location\": \"455 N Main, 1st Floor Board Room Wichita, KS 67202\", \"summary\": \"Council Meeting Consent/Workshop\", \"agenda final\": \"http://www.wichita.gov/Government/Council/Agendas/11-28-2016%20Final%20City%20Council%20Agenda%20Packet.pdf\", \"agenda\": \"http://www.wichita.gov/Government/Council/Agendas/11-28-2016%20City%20Council%20Agenda%20Packet.pdf\", \"ical\": \"b\\'BEGIN:VCALENDAR\\\\\\\\r\\\\\\\\nBEGIN:VEVENT\\\\\\\\r\\\\\\\\nSUMMARY:Council Meeting Consent/Workshop\\\\\\\\r\\\\\\\\nDTSTART;VALUE=DATE-TIME:20161128T093000\\\\\\\\r\\\\\\\\nDTEND;VALUE=DATE-TIME:20161128T113000\\\\\\\\r\\\\\\\\nDTSTAMP;VALUE=DATE-TIME:20161128T093000Z\\\\\\\\r\\\\\\\\nDESCRIPTION:Review and discuss important issues\\\\\\\\\\\\\\\\, staff projects and futur\\\\\\\\r\\\\\\\\n e Council meeting agenda items\\\\\\\\r\\\\\\\\nLOCATION:455 N Main\\\\\\\\\\\\\\\\, 1st Floor Board Room Wichita\\\\\\\\\\\\\\\\, KS 67202\\\\\\\\r\\\\\\\\nURL:http://www.wichita.gov/Government/Council/Agendas/11-28-2016%20City%20\\\\\\\\r\\\\\\\\n Council%20Agenda%20Packet.pdf\\\\\\\\r\\\\\\\\nEND:VEVENT\\\\\\\\r\\\\\\\\nEND:VCALENDAR\\\\\\\\r\\\\\\\\n\\'\", \"date\": \"2016-11-28 09:30:00\", \"email\": \"JCJohnson@wichita.gov;EGlock@wichita.gov;MLovely@wichita.gov;JHensley@wichita.gov;DLCityCouncilMembers@wichita.gov\"}'"
      ]
     },
     "execution_count": 11,
     "metadata": {},
     "output_type": "execute_result"
    }
   ],
   "source": [
    "ms.to_json(meetings[0])"
   ]
  },
  {
   "cell_type": "code",
   "execution_count": 12,
   "metadata": {
    "ExecuteTime": {
     "end_time": "2016-12-18T15:26:31.479969",
     "start_time": "2016-12-18T15:26:31.358128"
    },
    "collapsed": false
   },
   "outputs": [
    {
     "data": {
      "text/html": [
       "\n",
       "<iframe src=\"/edit/Open%20Wichita/files/ical_12-20.ics\" width=\"800px\" height=\"400px\"></iframe>"
      ],
      "text/plain": [
       "<IPython.core.display.HTML object>"
      ]
     },
     "metadata": {},
     "output_type": "display_data"
    }
   ],
   "source": [
    "%%html\n",
    "\n",
    "<iframe src=\"/edit/Open%20Wichita/files/ical_12-20.ics\" width=\"800px\" height=\"400px\"></iframe>"
   ]
  },
  {
   "cell_type": "markdown",
   "metadata": {},
   "source": [
    "The PDF xml for text boxes looks like this, and it's not listed in order:\n",
    "\n",
    "```xml\n",
    "<LTTextLineHorizontal bbox=\"[360.0, 664.515, 390.524, 677.311]\" height=\"12.796\" width=\"30.524\" word_margin=\"0.1\" x0=\"360.0\" x1=\"390.524\" y0=\"664.515\" y1=\"677.311\">July 04 </LTTextLineHorizontal>\n",
    "\n",
    "<LTTextLineHorizontal bbox=\"[432.0, 664.515, 519.284, 677.311]\" height=\"12.796\" width=\"87.284\" word_margin=\"0.1\" x0=\"432.0\" x1=\"519.284\" y0=\"664.515\" y1=\"677.311\">Holiday/No Meeting </LTTextLineHorizontal>```"
   ]
  },
  {
   "cell_type": "code",
   "execution_count": 13,
   "metadata": {
    "ExecuteTime": {
     "end_time": "2016-12-18T15:26:31.500953",
     "start_time": "2016-12-18T15:26:31.483029"
    },
    "collapsed": false
   },
   "outputs": [
    {
     "data": {
      "text/html": [
       "\n",
       "<iframe src=\"/edit/Open%20Wichita/files/pdf_tree.txt\" width=\"800px\" height=\"400px\"></iframe>"
      ],
      "text/plain": [
       "<IPython.core.display.HTML object>"
      ]
     },
     "metadata": {},
     "output_type": "display_data"
    }
   ],
   "source": [
    "%%html\n",
    "\n",
    "<iframe src=\"/edit/Open%20Wichita/files/pdf_tree.txt\" width=\"800px\" height=\"400px\"></iframe>"
   ]
  }
 ],
 "metadata": {
  "kernelspec": {
   "display_name": "Python 3",
   "language": "python",
   "name": "python3"
  },
  "language_info": {
   "codemirror_mode": {
    "name": "ipython",
    "version": 3
   },
   "file_extension": ".py",
   "mimetype": "text/x-python",
   "name": "python",
   "nbconvert_exporter": "python",
   "pygments_lexer": "ipython3",
   "version": "3.5.1"
  }
 },
 "nbformat": 4,
 "nbformat_minor": 0
}
