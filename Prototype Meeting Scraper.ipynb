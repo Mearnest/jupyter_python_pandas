{
 "cells": [
  {
   "cell_type": "markdown",
   "metadata": {},
   "source": [
    "**Import the scraping function**\n",
    "\n",
    "Scraping code lives in the meetings_scraper.py file."
   ]
  },
  {
   "cell_type": "code",
   "execution_count": 1,
   "metadata": {
    "ExecuteTime": {
     "end_time": "2016-12-20T12:38:44.223751",
     "start_time": "2016-12-20T12:38:43.579881"
    },
    "collapsed": false
   },
   "outputs": [],
   "source": [
    "from meetings_scraper import get_meetings"
   ]
  },
  {
   "cell_type": "code",
   "execution_count": 2,
   "metadata": {
    "ExecuteTime": {
     "end_time": "2016-12-20T12:38:44.232040",
     "start_time": "2016-12-20T12:38:44.225385"
    },
    "collapsed": false
   },
   "outputs": [
    {
     "name": "stdout",
     "output_type": "stream",
     "text": [
      "Help on function get_meetings in module meetings_scraper:\n",
      "\n",
      "get_meetings(year=None)\n",
      "    Calls pdf scrapers for extracting meeting dates\n",
      "    \n",
      "    Parameters\n",
      "    ----------\n",
      "    year: four digit number of desired year\n",
      "          Defaults to None (scraper classes use current year)\n",
      "    \n",
      "    Returns\n",
      "    -------\n",
      "    meetings: Combined and sorted list of meetings generated from online pdfs\n",
      "\n"
     ]
    }
   ],
   "source": [
    "help(get_meetings)"
   ]
  },
  {
   "cell_type": "markdown",
   "metadata": {},
   "source": [
    "**Call get_meetings function with year**\n",
    "\n",
    "Calls all the defined scrapers and puts into a single Meeting object list. Each meeting is a specific kind of Meeting object, depending on the scraper."
   ]
  },
  {
   "cell_type": "code",
   "execution_count": 3,
   "metadata": {
    "ExecuteTime": {
     "end_time": "2016-12-20T12:38:46.531512",
     "start_time": "2016-12-20T12:38:44.237319"
    },
    "collapsed": false
   },
   "outputs": [
    {
     "name": "stdout",
     "output_type": "stream",
     "text": [
      "2017 => http://www.wichita.gov/Government/Council/CityCouncilDocument/2017%20CITY%20COUNCIL%20MEETING%20SCHEDULE.pdf\n",
      "Meeting PDF written to file: files/council_meeting_2017.pdf\n",
      "34 lines of text extracted\n",
      "44 meetings generated\n",
      "2017 => http://www.wichita.gov/Government/Departments/Planning/PlanningDocument/2017%20Subdivision%20Calendar.pdf\n",
      "Meeting PDF written to file: files/subdivision_meeting_2017.pdf\n",
      "24 meetings parsed\n"
     ]
    },
    {
     "data": {
      "text/plain": [
       "[Tue Jan 03 09:00 AM: Regular Council Meeting,\n",
       " Tue Jan 10 09:00 AM: Regular Council Meeting,\n",
       " Thu Jan 12 10:00 AM: Subdivision and Utility Advisory Meeting,\n",
       " Tue Jan 17 09:00 AM: Regular Council Meeting,\n",
       " Tue Jan 24 09:30 AM: Consent/Workshop Council Meeting,\n",
       " Thu Jan 26 10:00 AM: Subdivision and Utility Advisory Meeting,\n",
       " Tue Feb 07 09:00 AM: Regular Council Meeting,\n",
       " Tue Feb 14 09:00 AM: Regular Council Meeting,\n",
       " Thu Feb 16 10:00 AM: Subdivision and Utility Advisory Meeting,\n",
       " Tue Feb 21 09:00 AM: Regular Council Meeting,\n",
       " Tue Feb 28 09:30 AM: Consent/Workshop Council Meeting,\n",
       " Thu Mar 02 10:00 AM: Subdivision and Utility Advisory Meeting,\n",
       " Tue Mar 07 09:00 AM: Regular Council Meeting,\n",
       " Thu Mar 16 10:00 AM: Subdivision and Utility Advisory Meeting,\n",
       " Tue Mar 21 09:00 AM: Regular Council Meeting,\n",
       " Tue Mar 28 09:30 AM: Consent/Workshop Council Meeting,\n",
       " Thu Mar 30 10:00 AM: Subdivision and Utility Advisory Meeting,\n",
       " Tue Apr 04 09:00 AM: Regular Council Meeting,\n",
       " Tue Apr 11 09:00 AM: Regular Council Meeting,\n",
       " Thu Apr 13 10:00 AM: Subdivision and Utility Advisory Meeting,\n",
       " Tue Apr 18 09:00 AM: Regular Council Meeting,\n",
       " Tue Apr 25 09:30 AM: Consent/Workshop Council Meeting,\n",
       " Thu Apr 27 10:00 AM: Subdivision and Utility Advisory Meeting,\n",
       " Tue May 02 09:00 AM: Regular Council Meeting,\n",
       " Tue May 09 09:00 AM: Regular Council Meeting,\n",
       " Thu May 11 10:00 AM: Subdivision and Utility Advisory Meeting,\n",
       " Tue May 16 09:00 AM: Regular Council Meeting,\n",
       " Tue May 23 09:30 AM: Consent/Workshop Council Meeting,\n",
       " Thu May 25 10:00 AM: Subdivision and Utility Advisory Meeting,\n",
       " Tue Jun 06 09:00 AM: Regular Council Meeting,\n",
       " Tue Jun 13 09:00 AM: Regular Council Meeting,\n",
       " Thu Jun 15 10:00 AM: Subdivision and Utility Advisory Meeting,\n",
       " Tue Jun 20 09:00 AM: Regular Council Meeting,\n",
       " Tue Jun 27 09:30 AM: Consent/Workshop Council Meeting,\n",
       " Thu Jun 29 10:00 AM: Subdivision and Utility Advisory Meeting,\n",
       " Tue Jul 11 09:00 AM: Regular Council Meeting,\n",
       " Thu Jul 13 10:00 AM: Subdivision and Utility Advisory Meeting,\n",
       " Tue Jul 18 09:00 AM: Regular Council Meeting,\n",
       " Tue Jul 25 09:30 AM: Consent/Workshop Council Meeting,\n",
       " Thu Jul 27 10:00 AM: Subdivision and Utility Advisory Meeting,\n",
       " Tue Aug 01 09:00 AM: Regular Council Meeting,\n",
       " Tue Aug 08 09:00 AM: Regular Council Meeting,\n",
       " Tue Aug 15 09:00 AM: Regular Council Meeting,\n",
       " Thu Aug 17 10:00 AM: Subdivision and Utility Advisory Meeting,\n",
       " Tue Aug 22 09:30 AM: Consent/Workshop Council Meeting,\n",
       " Thu Aug 31 10:00 AM: Subdivision and Utility Advisory Meeting,\n",
       " Tue Sep 05 09:00 AM: Regular Council Meeting,\n",
       " Tue Sep 12 09:00 AM: Regular Council Meeting,\n",
       " Thu Sep 14 10:00 AM: Subdivision and Utility Advisory Meeting,\n",
       " Tue Sep 19 09:00 AM: Regular Council Meeting,\n",
       " Tue Sep 26 09:30 AM: Consent/Workshop Council Meeting,\n",
       " Thu Sep 28 10:00 AM: Subdivision and Utility Advisory Meeting,\n",
       " Tue Oct 03 09:00 AM: Regular Council Meeting,\n",
       " Tue Oct 10 09:00 AM: Regular Council Meeting,\n",
       " Thu Oct 12 10:00 AM: Subdivision and Utility Advisory Meeting,\n",
       " Tue Oct 17 09:00 AM: Regular Council Meeting,\n",
       " Tue Oct 24 09:30 AM: Consent/Workshop Council Meeting,\n",
       " Thu Oct 26 10:00 AM: Subdivision and Utility Advisory Meeting,\n",
       " Tue Nov 07 09:00 AM: Regular Council Meeting,\n",
       " Thu Nov 09 10:00 AM: Subdivision and Utility Advisory Meeting,\n",
       " Tue Nov 21 09:00 AM: Regular Council Meeting,\n",
       " Tue Nov 28 09:30 AM: Consent/Workshop Council Meeting,\n",
       " Thu Nov 30 10:00 AM: Subdivision and Utility Advisory Meeting,\n",
       " Tue Dec 05 09:00 AM: Regular Council Meeting,\n",
       " Tue Dec 12 09:00 AM: Regular Council Meeting,\n",
       " Thu Dec 14 10:00 AM: Subdivision and Utility Advisory Meeting,\n",
       " Tue Dec 19 09:00 AM: Regular Council Meeting,\n",
       " Thu Dec 28 10:00 AM: Subdivision and Utility Advisory Meeting]"
      ]
     },
     "execution_count": 3,
     "metadata": {},
     "output_type": "execute_result"
    }
   ],
   "source": [
    "meetings = get_meetings(year=2017)\n",
    "meetings"
   ]
  },
  {
   "cell_type": "markdown",
   "metadata": {},
   "source": [
    "**Check for meeting on date**\n",
    "\n",
    "Uses string format of \"m/d\""
   ]
  },
  {
   "cell_type": "code",
   "execution_count": 4,
   "metadata": {
    "ExecuteTime": {
     "end_time": "2016-12-20T12:38:46.539736",
     "start_time": "2016-12-20T12:38:46.534047"
    },
    "collapsed": false
   },
   "outputs": [
    {
     "data": {
      "text/plain": [
       "True"
      ]
     },
     "execution_count": 4,
     "metadata": {},
     "output_type": "execute_result"
    }
   ],
   "source": [
    "\"4/18\" in meetings"
   ]
  },
  {
   "cell_type": "markdown",
   "metadata": {},
   "source": [
    "**Get meeting useing string format above**"
   ]
  },
  {
   "cell_type": "code",
   "execution_count": 5,
   "metadata": {
    "ExecuteTime": {
     "end_time": "2016-12-20T12:38:46.548419",
     "start_time": "2016-12-20T12:38:46.542667"
    },
    "collapsed": false
   },
   "outputs": [
    {
     "data": {
      "text/plain": [
       "Tue Apr 18 09:00 AM: Regular Council Meeting"
      ]
     },
     "execution_count": 5,
     "metadata": {},
     "output_type": "execute_result"
    }
   ],
   "source": [
    "meeting = meetings[\"4/18\"]\n",
    "meeting"
   ]
  },
  {
   "cell_type": "markdown",
   "metadata": {},
   "source": [
    "**Iterate over properties and print**\n",
    "\n",
    "★ Note:  Agenda PDF is put online 4 days before meeting. Final Agenda PDF is posted day before."
   ]
  },
  {
   "cell_type": "code",
   "execution_count": 6,
   "metadata": {
    "ExecuteTime": {
     "end_time": "2016-12-20T12:38:46.566872",
     "start_time": "2016-12-20T12:38:46.556267"
    },
    "collapsed": false
   },
   "outputs": [
    {
     "name": "stdout",
     "output_type": "stream",
     "text": [
      "agenda: http://www.wichita.gov/Government/Council/Agendas/4-18-2017%20City%20Council%20Agenda%20Packet.pdf\n",
      "date: 2017-04-18 09:00:00\n",
      "description: Provide policy direction for Wichita\n",
      "summary: Regular Council Meeting\n",
      "email: JCJohnson@wichita.gov;EGlock@wichita.gov;MLovely@wichita.gov;JHensley@wichita.gov;DLCityCouncilMembers@wichita.gov\n",
      "location: 455 N Main, 1st Floor Board Room Wichita, KS 67202\n",
      "agenda_final: http://www.wichita.gov/Government/Council/Agendas/4-18-2017%20Final%20City%20Council%20Agenda%20Packet.pdf\n"
     ]
    }
   ],
   "source": [
    "for key, value in meeting:\n",
    "    print(\"{0}: {1}\".format(key, value))"
   ]
  },
  {
   "cell_type": "markdown",
   "metadata": {},
   "source": [
    "**Convert to ical format**\n",
    "\n",
    "Returns byte string for writing to .ics file."
   ]
  },
  {
   "cell_type": "code",
   "execution_count": 7,
   "metadata": {
    "ExecuteTime": {
     "end_time": "2016-12-20T12:38:46.585890",
     "start_time": "2016-12-20T12:38:46.575155"
    },
    "collapsed": false
   },
   "outputs": [
    {
     "data": {
      "text/plain": [
       "b'BEGIN:VCALENDAR\\r\\nBEGIN:VEVENT\\r\\nSUMMARY:Regular Council Meeting\\r\\nDTSTART;VALUE=DATE-TIME:20170418T090000\\r\\nDTEND;VALUE=DATE-TIME:20170418T110000\\r\\nDTSTAMP;VALUE=DATE-TIME:20170418T090000Z\\r\\nDESCRIPTION:Provide policy direction for Wichita\\r\\nLOCATION:455 N Main\\\\, 1st Floor Board Room Wichita\\\\, KS 67202\\r\\nURL:http://www.wichita.gov/Government/Council/Agendas/4-18-2017%20City%20C\\r\\n ouncil%20Agenda%20Packet.pdf\\r\\nEND:VEVENT\\r\\nEND:VCALENDAR\\r\\n'"
      ]
     },
     "execution_count": 7,
     "metadata": {},
     "output_type": "execute_result"
    }
   ],
   "source": [
    "meeting.to_ics()"
   ]
  },
  {
   "cell_type": "markdown",
   "metadata": {},
   "source": [
    "**Pass True to save file**"
   ]
  },
  {
   "cell_type": "code",
   "execution_count": 8,
   "metadata": {
    "ExecuteTime": {
     "end_time": "2016-12-20T12:38:46.601631",
     "start_time": "2016-12-20T12:38:46.588799"
    },
    "collapsed": false
   },
   "outputs": [
    {
     "name": "stdout",
     "output_type": "stream",
     "text": [
      "Meeting saved to files/council_meeting_4_18_2017.ics\n"
     ]
    }
   ],
   "source": [
    "# When save param is True, filename is returned instead\n",
    "filename = meeting.to_ics(save=True)"
   ]
  },
  {
   "cell_type": "markdown",
   "metadata": {},
   "source": [
    "**Read .ics file back in**"
   ]
  },
  {
   "cell_type": "code",
   "execution_count": 9,
   "metadata": {
    "ExecuteTime": {
     "end_time": "2016-12-20T12:38:46.619689",
     "start_time": "2016-12-20T12:38:46.604669"
    },
    "collapsed": false
   },
   "outputs": [
    {
     "name": "stdout",
     "output_type": "stream",
     "text": [
      "BEGIN:VCALENDAR\n",
      "BEGIN:VEVENT\n",
      "SUMMARY:Regular Council Meeting\n",
      "DTSTART;VALUE=DATE-TIME:20170418T090000\n",
      "DTEND;VALUE=DATE-TIME:20170418T110000\n",
      "DTSTAMP;VALUE=DATE-TIME:20170418T090000Z\n",
      "DESCRIPTION:Provide policy direction for Wichita\n",
      "LOCATION:455 N Main\\, 1st Floor Board Room Wichita\\, KS 67202\n",
      "URL:http://www.wichita.gov/Government/Council/Agendas/4-18-2017%20City%20C\n",
      " ouncil%20Agenda%20Packet.pdf\n",
      "END:VEVENT\n",
      "END:VCALENDAR\n"
     ]
    }
   ],
   "source": [
    "with open(filename, 'r') as f:\n",
    "    for line in f.readlines():\n",
    "        print(line.replace(\"\\n\", \"\"))\n",
    "        \n",
    "f.close()"
   ]
  },
  {
   "cell_type": "markdown",
   "metadata": {},
   "source": [
    "**Convert to json format**"
   ]
  },
  {
   "cell_type": "code",
   "execution_count": 10,
   "metadata": {
    "ExecuteTime": {
     "end_time": "2016-12-20T12:38:46.765536",
     "start_time": "2016-12-20T12:38:46.627545"
    },
    "collapsed": false
   },
   "outputs": [
    {
     "data": {
      "text/plain": [
       "'{\"agenda\": \"http://www.wichita.gov/Government/Council/Agendas/4-18-2017%20City%20Council%20Agenda%20Packet.pdf\", \"summary\": \"Regular Council Meeting\", \"date\": \"2017-04-18T09:00:00\", \"description\": \"Provide policy direction for Wichita\", \"email\": \"JCJohnson@wichita.gov;EGlock@wichita.gov;MLovely@wichita.gov;JHensley@wichita.gov;DLCityCouncilMembers@wichita.gov\", \"location\": \"455 N Main, 1st Floor Board Room Wichita, KS 67202\", \"agenda_final\": \"http://www.wichita.gov/Government/Council/Agendas/4-18-2017%20Final%20City%20Council%20Agenda%20Packet.pdf\"}'"
      ]
     },
     "execution_count": 10,
     "metadata": {},
     "output_type": "execute_result"
    }
   ],
   "source": [
    "meeting.to_json()"
   ]
  },
  {
   "cell_type": "markdown",
   "metadata": {},
   "source": [
    "**Save to file**"
   ]
  },
  {
   "cell_type": "code",
   "execution_count": 11,
   "metadata": {
    "ExecuteTime": {
     "end_time": "2016-12-20T12:38:46.780986",
     "start_time": "2016-12-20T12:38:46.771217"
    },
    "collapsed": false
   },
   "outputs": [
    {
     "name": "stdout",
     "output_type": "stream",
     "text": [
      "Meeting saved to files/council_meeting_4_18_2017.json\n"
     ]
    },
    {
     "data": {
      "text/plain": [
       "'files/council_meeting_4_18_2017.json'"
      ]
     },
     "execution_count": 11,
     "metadata": {},
     "output_type": "execute_result"
    }
   ],
   "source": [
    "meeting.to_json(save=True)"
   ]
  },
  {
   "cell_type": "markdown",
   "metadata": {},
   "source": [
    "**Convert to csv format**"
   ]
  },
  {
   "cell_type": "code",
   "execution_count": 12,
   "metadata": {
    "ExecuteTime": {
     "end_time": "2016-12-20T12:38:46.797114",
     "start_time": "2016-12-20T12:38:46.788059"
    },
    "collapsed": false
   },
   "outputs": [
    {
     "data": {
      "text/plain": [
       "'\"http://www.wichita.gov/Government/Council/Agendas/4-18-2017%20City%20Council%20Agenda%20Packet.pdf\",2017-04-18 09:00:00,\"Provide policy direction for Wichita\",\"Regular Council Meeting\",\"JCJohnson@wichita.gov;EGlock@wichita.gov;MLovely@wichita.gov;JHensley@wichita.gov;DLCityCouncilMembers@wichita.gov\",\"455 N Main, 1st Floor Board Room Wichita, KS 67202\",\"http://www.wichita.gov/Government/Council/Agendas/4-18-2017%20Final%20City%20Council%20Agenda%20Packet.pdf\"'"
      ]
     },
     "execution_count": 12,
     "metadata": {},
     "output_type": "execute_result"
    }
   ],
   "source": [
    "meeting.to_csv()"
   ]
  },
  {
   "cell_type": "markdown",
   "metadata": {},
   "source": [
    "**Save to file**"
   ]
  },
  {
   "cell_type": "code",
   "execution_count": 13,
   "metadata": {
    "ExecuteTime": {
     "end_time": "2016-12-20T12:38:46.811606",
     "start_time": "2016-12-20T12:38:46.801103"
    },
    "collapsed": false
   },
   "outputs": [
    {
     "name": "stdout",
     "output_type": "stream",
     "text": [
      "Meeting saved to files/council_meeting_4_18_2017.csv\n"
     ]
    },
    {
     "data": {
      "text/plain": [
       "'files/council_meeting_4_18_2017.csv'"
      ]
     },
     "execution_count": 13,
     "metadata": {},
     "output_type": "execute_result"
    }
   ],
   "source": [
    "meeting.to_csv(save=True)"
   ]
  },
  {
   "cell_type": "markdown",
   "metadata": {},
   "source": [
    "**Filter for Consent/Workshops**"
   ]
  },
  {
   "cell_type": "code",
   "execution_count": 14,
   "metadata": {
    "ExecuteTime": {
     "end_time": "2016-12-20T12:38:46.834786",
     "start_time": "2016-12-20T12:38:46.819175"
    },
    "collapsed": false
   },
   "outputs": [
    {
     "data": {
      "text/plain": [
       "[Tue Jan 24 09:30 AM: Consent/Workshop Council Meeting,\n",
       " Tue Feb 28 09:30 AM: Consent/Workshop Council Meeting,\n",
       " Tue Mar 28 09:30 AM: Consent/Workshop Council Meeting,\n",
       " Tue Apr 25 09:30 AM: Consent/Workshop Council Meeting,\n",
       " Tue May 23 09:30 AM: Consent/Workshop Council Meeting,\n",
       " Tue Jun 27 09:30 AM: Consent/Workshop Council Meeting,\n",
       " Tue Jul 25 09:30 AM: Consent/Workshop Council Meeting,\n",
       " Tue Aug 22 09:30 AM: Consent/Workshop Council Meeting,\n",
       " Tue Sep 26 09:30 AM: Consent/Workshop Council Meeting,\n",
       " Tue Oct 24 09:30 AM: Consent/Workshop Council Meeting,\n",
       " Tue Nov 28 09:30 AM: Consent/Workshop Council Meeting]"
      ]
     },
     "execution_count": 14,
     "metadata": {},
     "output_type": "execute_result"
    }
   ],
   "source": [
    "# Filter creates a generator\n",
    "# list converts to a list\n",
    "list(filter(lambda meeting: 'Workshop' in meeting.summary, meetings))"
   ]
  },
  {
   "cell_type": "markdown",
   "metadata": {},
   "source": [
    "**Filter for Subdivsion meetings**"
   ]
  },
  {
   "cell_type": "code",
   "execution_count": 15,
   "metadata": {
    "ExecuteTime": {
     "end_time": "2016-12-20T12:38:46.934321",
     "start_time": "2016-12-20T12:38:46.857494"
    },
    "collapsed": false
   },
   "outputs": [
    {
     "data": {
      "text/plain": [
       "<filter at 0x10493a438>"
      ]
     },
     "execution_count": 15,
     "metadata": {},
     "output_type": "execute_result"
    }
   ],
   "source": [
    "subdivisions = filter(lambda meeting: meeting.type == 'subdivision', meetings)\n",
    "subdivisions"
   ]
  },
  {
   "cell_type": "markdown",
   "metadata": {},
   "source": [
    "**Get the next (first) subdivsion meeting**"
   ]
  },
  {
   "cell_type": "code",
   "execution_count": 16,
   "metadata": {
    "ExecuteTime": {
     "end_time": "2016-12-20T12:38:46.961882",
     "start_time": "2016-12-20T12:38:46.950822"
    },
    "collapsed": false
   },
   "outputs": [
    {
     "data": {
      "text/plain": [
       "Thu Jan 12 10:00 AM: Subdivision and Utility Advisory Meeting"
      ]
     },
     "execution_count": 16,
     "metadata": {},
     "output_type": "execute_result"
    }
   ],
   "source": [
    "sub_meeting = next(subdivisions)\n",
    "sub_meeting"
   ]
  },
  {
   "cell_type": "markdown",
   "metadata": {},
   "source": [
    "**Iterate over and print properties**\n",
    "\n",
    "★ Note: Agenda and Plat Drawing PDFs are only put online a few days prior to meeting."
   ]
  },
  {
   "cell_type": "code",
   "execution_count": 17,
   "metadata": {
    "ExecuteTime": {
     "end_time": "2016-12-20T12:38:46.981351",
     "start_time": "2016-12-20T12:38:46.967807"
    },
    "collapsed": false
   },
   "outputs": [
    {
     "name": "stdout",
     "output_type": "stream",
     "text": [
      "agenda => http://www.wichita.gov/Government/Departments/Planning/AgendasMinutes/1-12-2017%20Subdivision%20Agenda%20packet.pdf\n",
      "date => 2017-01-12 10:00:00\n",
      "plat_drawings => http://www.wichita.gov/Government/Departments/Planning/AgendasMinutes/1-12-2017%20Subdivision%20Agenda%20-%20Plat%20drawings.pdf\n",
      "description => City utility design planning and review\n",
      "summary => Subdivision and Utility Advisory Meeting\n",
      "email => nstrahl@wichita.gov\n",
      "location => The Ronald Reagan Building, 271 W. 3rd St N, Suite 203, Wichita KS 67201\n"
     ]
    }
   ],
   "source": [
    "for key, value in sub_meeting:\n",
    "    print(key, \"=>\", value)"
   ]
  },
  {
   "cell_type": "markdown",
   "metadata": {},
   "source": [
    "<hr style=\"border:6px outset green\">\n",
    "\n",
    "<p style=\"font-size:16px;font-weight:bold;\">Example: Add a new Scraper</p>\n",
    "\n",
    "<p style=\"font-size:16px\">This would probably be done inside the meetings_scarper library. Below is a screenshot of the sample PDF we'll use:</p>\n",
    "\n",
    "<img src=\"files/Test%20Meeting%20screenshot.png\" style=\"width:700px;margin:0;\">\n",
    "\n",
    "\n",
    "<p style=\"font-size:16px\">The PDF xml for text boxes looks like this, and it's not listed in order:</p>\n",
    "\n",
    "```xml\n",
    "<LTTextBoxHorizontal bbox=\"[396.15, 607.426, 537.72, 620.152]\" height=\"12.726\" index=\"0\" width=\"141.57\" x0=\"396.15\" x1=\"537.72\" y0=\"607.426\" y1=\"620.152\">June 28 CANCELLED</LTTextBoxHorizontal>```\n",
    "\n",
    "<p style=\"font-size:16px\">Sometimes, the first letter is in another element, for some reason.</p>\n",
    "\n",
    "```xml\n",
    "<LTTextBoxHorizontal bbox=\"[82.021, 671.696, 185.58, 684.422]\" height=\"12.726\" index=\"6\" width=\"103.559\" x0=\"82.021\" x1=\"185.58\" y0=\"671.696\" y1=\"684.422\">ecember 31, 2016</LTTextBoxHorizontal>```"
   ]
  },
  {
   "cell_type": "code",
   "execution_count": 18,
   "metadata": {
    "ExecuteTime": {
     "end_time": "2016-12-20T12:38:47.601095",
     "start_time": "2016-12-20T12:38:46.986050"
    },
    "collapsed": false
   },
   "outputs": [],
   "source": [
    "# Only needed if outside of library\n",
    "import re\n",
    "from datetime import datetime\n",
    "from meetings_scraper import Meeting\n",
    "\n",
    "\n",
    "class ElixirMeeting(Meeting):\n",
    "    type = \"elixir\"  #  could be extracted from class name (cls.__name__)\n",
    "    pdf_url = \"http://localhost:8888/files/Open%20Wichita/files/Test%20Meeting%20Schedule.pdf\"\n",
    "    \n",
    "    def __init__(self, year, month, day):\n",
    "        self.summary = \"Elixir Meeting\"\n",
    "        self.description = \"testing adding a custom scraper\"\n",
    "        self.location = \"216 N Mosley St, Wichita, KS 67202\"\n",
    "        self.date = datetime(year, month, day, hour=14, minute=15)\n",
    "        self.agenda = \"https://media.readthedocs.org/pdf/elixir-lang/latest/elixir-lang.pdf\"\n",
    "        self.email = \"fake_marcus@gmail.com\"\n",
    "        \n",
    "    def __iter__(self):\n",
    "        # get props from parent\n",
    "        props = dict(super().__iter__())\n",
    "        \n",
    "        # Add extra properties\n",
    "        props[\"other\"] = \"Something additional\"\n",
    "        \n",
    "        for key, value in props.items(): # Iterate and yield\n",
    "            yield key, value\n",
    "        \n",
    "    @classmethod\n",
    "    def parse_meetings(cls, pdf):\n",
    "        # Find some text in the pdf\n",
    "        header = pdf.pq('LTTextBoxHorizontal:contains(\"Meeting Schedule\")')\n",
    "        header_line = header[0]\n",
    "        \n",
    "        print(\"\\nFound:\", header_line.text)\n",
    "        for key, value in header_line.items():\n",
    "            print(key, value)\n",
    "    \n",
    "        meetings = []\n",
    "        day_pattern = \"\\d{1,2}\"  # Match on day 1 - 31\n",
    "        year_pattern = \"\\d\\d\\d\\d\"\n",
    "        \n",
    "        for month_text in cls.months:\n",
    "            \n",
    "            # Get any lines that match month text\n",
    "            # Could be TextLine or TextLineBox\n",
    "            lines_h = pdf.pq('LTTextLineHorizontal:contains(\"{0}\")'.format(month_text))\n",
    "            lines_box = pdf.pq('LTTextBoxHorizontal:contains(\"{0}\")'.format(month_text))\n",
    "            lines = lines_h + lines_box # Merge lists\n",
    "            \n",
    "            # Iterate over lines to create Meetings\n",
    "            # Excluded cancelled and meeting in other years\n",
    "            for line in lines:\n",
    "                match_day = re.search(day_pattern, line.text)\n",
    "                \n",
    "                if match_day:\n",
    "                    day = int(match_day.group())\n",
    "                    month = cls.months.index(month_text) + 1\n",
    "                   \n",
    "                    if \"CANCELLED\" in line.text:\n",
    "                        print(\"Meeting cancelled on {0}/{1}\".format(month, day))\n",
    "                        continue\n",
    "                    else:\n",
    "                        match_year = re.search(year_pattern, line.text)\n",
    "                        if match_year:\n",
    "                            year = int(match_year.group())\n",
    "                            \n",
    "                            if year != cls.year:\n",
    "                                print(\"Wrong year:\", line.text)\n",
    "                                continue\n",
    "                                \n",
    "                    meeting = cls(cls.year, month, day)\n",
    "                    meetings.append(meeting)\n",
    "                # end if\n",
    "            #end for line\n",
    "        #end for month_text\n",
    "            \n",
    "        return meetings"
   ]
  },
  {
   "cell_type": "code",
   "execution_count": 19,
   "metadata": {
    "ExecuteTime": {
     "end_time": "2016-12-20T12:38:47.918025",
     "start_time": "2016-12-20T12:38:47.604617"
    },
    "collapsed": false
   },
   "outputs": [
    {
     "name": "stdout",
     "output_type": "stream",
     "text": [
      "2017 => http://localhost:8888/files/Open%20Wichita/files/Test%20Meeting%20Schedule.pdf\n",
      "Meeting PDF written to file: files/elixir_meeting_2017.pdf\n",
      "\n",
      "Found: Meeting Schedule \n",
      "bbox [252.85, 703.946, 362.65, 716.448]\n",
      "height 12.502\n",
      "index 4\n",
      "width 109.8\n",
      "x0 252.85\n",
      "x1 362.65\n",
      "y0 703.946\n",
      "y1 716.448\n",
      "Wrong year: April 30, 2018 \n",
      "Meeting cancelled on 6/28\n",
      "Wrong year: ecember 31, 2016 \n"
     ]
    },
    {
     "data": {
      "text/plain": [
       "[Sun Jan 01 02:15 PM: Elixir Meeting,\n",
       " Thu Feb 23 02:15 PM: Elixir Meeting,\n",
       " Mon Mar 13 02:15 PM: Elixir Meeting,\n",
       " Fri Aug 11 02:15 PM: Elixir Meeting]"
      ]
     },
     "execution_count": 19,
     "metadata": {},
     "output_type": "execute_result"
    }
   ],
   "source": [
    "ElixirMeeting.year = 2017 # override current year\n",
    "elixir_meetings = ElixirMeeting.get_meetings()\n",
    "elixir_meetings"
   ]
  },
  {
   "cell_type": "code",
   "execution_count": 20,
   "metadata": {
    "ExecuteTime": {
     "end_time": "2016-12-20T12:38:47.935572",
     "start_time": "2016-12-20T12:38:47.922662"
    },
    "collapsed": false
   },
   "outputs": [
    {
     "data": {
      "text/plain": [
       "Sun Jan 01 02:15 PM: Elixir Meeting"
      ]
     },
     "execution_count": 20,
     "metadata": {},
     "output_type": "execute_result"
    }
   ],
   "source": [
    "first_meeting = elixir_meetings[0]\n",
    "first_meeting"
   ]
  },
  {
   "cell_type": "code",
   "execution_count": 21,
   "metadata": {
    "ExecuteTime": {
     "end_time": "2016-12-20T12:38:47.952998",
     "start_time": "2016-12-20T12:38:47.941702"
    },
    "collapsed": false
   },
   "outputs": [
    {
     "data": {
      "text/plain": [
       "'{\"agenda\": \"https://media.readthedocs.org/pdf/elixir-lang/latest/elixir-lang.pdf\", \"date\": \"2017-01-01T14:15:00\", \"description\": \"testing adding a custom scraper\", \"summary\": \"Elixir Meeting\", \"other\": \"Something additional\", \"email\": \"fake_marcus@gmail.com\", \"location\": \"216 N Mosley St, Wichita, KS 67202\"}'"
      ]
     },
     "execution_count": 21,
     "metadata": {},
     "output_type": "execute_result"
    }
   ],
   "source": [
    "first_meeting.to_json()"
   ]
  },
  {
   "cell_type": "markdown",
   "metadata": {},
   "source": [
    "**For the hell of it**"
   ]
  },
  {
   "cell_type": "code",
   "execution_count": 22,
   "metadata": {
    "ExecuteTime": {
     "end_time": "2016-12-20T12:38:47.970169",
     "start_time": "2016-12-20T12:38:47.956994"
    },
    "collapsed": false
   },
   "outputs": [
    {
     "data": {
      "text/html": [
       "<div style=\"padding: 10px; width: 60%; transform: skewX(174deg); box-shadow: 10px 10px 5px #888888; background: lavenderblush url(files/goat.gif) no-repeat right top; background-size:50%; margin-left: 20px;\"><p><strong>agenda</strong>: <span style=\"color:darkblue\">https://media.readthedocs.org/pdf/elixir-lang/latest/elixir-lang.pdf</span></p><p><strong>date</strong>: <span style=\"color:darkorange\">2017-01-01 14:15:00</span></p><p><strong>description</strong>: <span style=\"color:darkgreen\">testing adding a custom scraper</span></p><p><strong>summary</strong>: <span style=\"color:darkgreen\">Elixir Meeting</span></p><p><strong>other</strong>: <span style=\"color:darkgreen\">Something additional</span></p><p><strong>email</strong>: <span style=\"color:darkred\">fake_marcus@gmail.com</span></p><p><strong>location</strong>: <address style=\"font-weight:bold; color:darkgray\">216 N Mosley St, Wichita, KS 67202</address></p></div>"
      ],
      "text/plain": [
       "<IPython.core.display.HTML object>"
      ]
     },
     "execution_count": 22,
     "metadata": {},
     "output_type": "execute_result"
    }
   ],
   "source": [
    "first_meeting.to_html()"
   ]
  }
 ],
 "metadata": {
  "kernelspec": {
   "display_name": "Python 3",
   "language": "python",
   "name": "python3"
  },
  "language_info": {
   "codemirror_mode": {
    "name": "ipython",
    "version": 3
   },
   "file_extension": ".py",
   "mimetype": "text/x-python",
   "name": "python",
   "nbconvert_exporter": "python",
   "pygments_lexer": "ipython3",
   "version": "3.5.1"
  }
 },
 "nbformat": 4,
 "nbformat_minor": 0
}
